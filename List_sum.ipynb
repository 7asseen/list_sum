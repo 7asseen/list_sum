{
 "cells": [
  {
   "cell_type": "code",
   "execution_count": 10,
   "metadata": {
    "scrolled": false
   },
   "outputs": [
    {
     "name": "stdout",
     "output_type": "stream",
     "text": [
      "17\n",
      "[[1, 7, 9], [2, 6, 9], [2, 7, 8], [3, 5, 9], [3, 6, 8], [4, 5, 8], [4, 6, 7]]\n"
     ]
    }
   ],
   "source": [
    "listt=[1,2,3,4,5,6,7,8,9]\n",
    "comp_1=0 \n",
    "comp_2=1 \n",
    "comp_3=2\n",
    "i=0\n",
    "lists=[0]*10\n",
    "z=input()\n",
    "for c in listt[comp_1:7]:\n",
    "    comp_2=comp_1+1\n",
    "    for c in listt[comp_2:8]:\n",
    "        comp_3=comp_2+1\n",
    "        for c in listt[comp_3:]:\n",
    "            sum= listt[comp_1]+listt[comp_2]+listt[comp_3]            \n",
    "            if sum==int(z):                \n",
    "                lists[i]=[listt[comp_1],listt[comp_2],listt[comp_3]]\n",
    "                i=i+1\n",
    "            comp_3+=1\n",
    "        comp_2+=1\n",
    "    comp_1+=1         \n",
    "lists = [n for n in lists if n !=0]\n",
    "print(lists)"
   ]
  }
 ],
 "metadata": {
  "kernelspec": {
   "display_name": "Python 3",
   "language": "python",
   "name": "python3"
  },
  "language_info": {
   "codemirror_mode": {
    "name": "ipython",
    "version": 3
   },
   "file_extension": ".py",
   "mimetype": "text/x-python",
   "name": "python",
   "nbconvert_exporter": "python",
   "pygments_lexer": "ipython3",
   "version": "3.7.6"
  }
 },
 "nbformat": 4,
 "nbformat_minor": 4
}
